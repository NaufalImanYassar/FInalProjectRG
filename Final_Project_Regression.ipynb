{
  "nbformat": 4,
  "nbformat_minor": 0,
  "metadata": {
    "colab": {
      "name": "final_project_RG.ipynb",
      "provenance": [],
      "collapsed_sections": []
    },
    "kernelspec": {
      "name": "python3",
      "display_name": "Python 3"
    },
    "language_info": {
      "name": "python"
    }
  },
  "cells": [
    {
      "cell_type": "markdown",
      "source": [
        "https://media.neliti.com/media/publications/100644-ID-analisis-regresi-linier-piecewise-dua-se.pdf"
      ],
      "metadata": {
        "id": "aKd9vYxr-bAQ"
      }
    },
    {
      "cell_type": "code",
      "execution_count": null,
      "metadata": {
        "id": "NcAZdLlY8Jzg"
      },
      "outputs": [],
      "source": [
        "import pandas as pd \n",
        "import numpy as np #linear algebra\n",
        "import seaborn as sns\n",
        "import matplotlib.pyplot as plt\n",
        "%matplotlib inline\n",
        "from sklearn.linear_model import LinearRegression\n",
        "from sklearn.model_selection import train_test_split"
      ]
    },
    {
      "cell_type": "code",
      "source": [
        "from google.colab import drive\n",
        "drive.mount('/content/drive')"
      ],
      "metadata": {
        "colab": {
          "base_uri": "https://localhost:8080/"
        },
        "id": "cX9Zgpkslag3",
        "outputId": "e4306b8a-1724-4885-b862-1fba5a2d2d84"
      },
      "execution_count": null,
      "outputs": [
        {
          "output_type": "stream",
          "name": "stdout",
          "text": [
            "Mounted at /content/drive\n"
          ]
        }
      ]
    },
    {
      "cell_type": "code",
      "source": [
        "# Memanggil data \n",
        "data_products=pd.read_csv('/content/drive/MyDrive/Folder tanpa nama/inventory_items.csv')\n",
        "\n",
        "# Melihat jumlah baris dan kolom\n",
        "data_products.shape"
      ],
      "metadata": {
        "colab": {
          "base_uri": "https://localhost:8080/"
        },
        "id": "Zj6iaJLYlmDB",
        "outputId": "4767db00-d7a9-490b-d684-5caa1ec5f503"
      },
      "execution_count": null,
      "outputs": [
        {
          "output_type": "execute_result",
          "data": {
            "text/plain": [
              "(487394, 12)"
            ]
          },
          "metadata": {},
          "execution_count": 3
        }
      ]
    },
    {
      "cell_type": "code",
      "source": [
        "data_events=pd.read_csv('/content/drive/MyDrive/Folder tanpa nama/events.csv')\n",
        "\n",
        "# Melihat jumlah baris dan kolom\n",
        "data_events.shape"
      ],
      "metadata": {
        "colab": {
          "base_uri": "https://localhost:8080/"
        },
        "id": "Cw-QV3oNlzZd",
        "outputId": "bdf21fa3-2cf3-4ba9-bb46-bdaf0b9a41f7"
      },
      "execution_count": null,
      "outputs": [
        {
          "output_type": "execute_result",
          "data": {
            "text/plain": [
              "(2418734, 13)"
            ]
          },
          "metadata": {},
          "execution_count": 4
        }
      ]
    },
    {
      "cell_type": "code",
      "source": [
        "data_products.info()"
      ],
      "metadata": {
        "colab": {
          "base_uri": "https://localhost:8080/"
        },
        "id": "AYeoG5Cn_2Ox",
        "outputId": "576b5edb-ef44-457a-e973-62062864a8b7"
      },
      "execution_count": null,
      "outputs": [
        {
          "output_type": "stream",
          "name": "stdout",
          "text": [
            "<class 'pandas.core.frame.DataFrame'>\n",
            "RangeIndex: 487394 entries, 0 to 487393\n",
            "Data columns (total 12 columns):\n",
            " #   Column                          Non-Null Count   Dtype  \n",
            "---  ------                          --------------   -----  \n",
            " 0   ids                             487394 non-null  int64  \n",
            " 1   product_id                      487394 non-null  int64  \n",
            " 2   created_at                      487394 non-null  object \n",
            " 3   sold_at                         180508 non-null  object \n",
            " 4   costs                           487394 non-null  float64\n",
            " 5   product_category                487394 non-null  object \n",
            " 6   product_name                    487359 non-null  object \n",
            " 7   product_brand                   487020 non-null  object \n",
            " 8   product_retail_price            487394 non-null  float64\n",
            " 9   product_department              487394 non-null  object \n",
            " 10  product_sku                     487394 non-null  object \n",
            " 11  product_distribution_center_id  487394 non-null  int64  \n",
            "dtypes: float64(2), int64(3), object(7)\n",
            "memory usage: 44.6+ MB\n"
          ]
        }
      ]
    },
    {
      "cell_type": "code",
      "source": [
        "data_events.info()"
      ],
      "metadata": {
        "colab": {
          "base_uri": "https://localhost:8080/"
        },
        "id": "nkaW7i6-__01",
        "outputId": "91f27f59-6fc6-41d6-8f4e-18c1d857b747"
      },
      "execution_count": null,
      "outputs": [
        {
          "output_type": "stream",
          "name": "stdout",
          "text": [
            "<class 'pandas.core.frame.DataFrame'>\n",
            "RangeIndex: 2418734 entries, 0 to 2418733\n",
            "Data columns (total 13 columns):\n",
            " #   Column           Dtype  \n",
            "---  ------           -----  \n",
            " 0   id               int64  \n",
            " 1   user_id          float64\n",
            " 2   sequence_number  int64  \n",
            " 3   session_id       object \n",
            " 4   created_at       object \n",
            " 5   ip_address       object \n",
            " 6   city             object \n",
            " 7   state            object \n",
            " 8   postal_code      object \n",
            " 9   browser          object \n",
            " 10  traffic_source   object \n",
            " 11  uri              object \n",
            " 12  event_type       object \n",
            "dtypes: float64(1), int64(2), object(10)\n",
            "memory usage: 239.9+ MB\n"
          ]
        }
      ]
    },
    {
      "cell_type": "code",
      "source": [
        "with pd.option_context(\"display.max_columns\", None):\n",
        "    display(data_products.head())"
      ],
      "metadata": {
        "colab": {
          "base_uri": "https://localhost:8080/",
          "height": 531
        },
        "id": "-oCkerGJJsfT",
        "outputId": "513b0559-92b4-4a61-f0de-dbccb6b57de2"
      },
      "execution_count": null,
      "outputs": [
        {
          "output_type": "display_data",
          "data": {
            "text/plain": [
              "     ids  product_id                 created_at                    sold_at  \\\n",
              "0  90967       16898  2021-07-19 02:20:10+00:00  2021-07-20 14:34:10+00:00   \n",
              "1  90968       16898  2020-04-13 07:46:00+00:00                        NaN   \n",
              "2  90969       16898  2020-09-02 17:43:00+00:00                        NaN   \n",
              "3  90970       16898  2021-08-19 15:17:00+00:00                        NaN   \n",
              "4  96715       16898  2020-05-09 11:16:10+00:00  2020-06-23 23:59:10+00:00   \n",
              "\n",
              "    costs product_category                           product_name  \\\n",
              "0  13.925      Tops & Tees  Quiksilver Waterman Men's On The Rise   \n",
              "1  13.925      Tops & Tees  Quiksilver Waterman Men's On The Rise   \n",
              "2  13.925      Tops & Tees  Quiksilver Waterman Men's On The Rise   \n",
              "3  13.925      Tops & Tees  Quiksilver Waterman Men's On The Rise   \n",
              "4  13.925      Tops & Tees  Quiksilver Waterman Men's On The Rise   \n",
              "\n",
              "  product_brand  product_retail_price product_department  \\\n",
              "0     Allegra K                  25.0                Men   \n",
              "1     Allegra K                  25.0                Men   \n",
              "2     Allegra K                  25.0                Men   \n",
              "3     Allegra K                  25.0                Men   \n",
              "4     Allegra K                  25.0                Men   \n",
              "\n",
              "                        product_sku  product_distribution_center_id  \n",
              "0  22811EE19846217512507785E74D12CC                               3  \n",
              "1  22811EE19846217512507785E74D12CC                               3  \n",
              "2  22811EE19846217512507785E74D12CC                               3  \n",
              "3  22811EE19846217512507785E74D12CC                               3  \n",
              "4  22811EE19846217512507785E74D12CC                               3  "
            ],
            "text/html": [
              "\n",
              "  <div id=\"df-1a41744b-8c05-4944-b7b8-e75deb3cca60\">\n",
              "    <div class=\"colab-df-container\">\n",
              "      <div>\n",
              "<style scoped>\n",
              "    .dataframe tbody tr th:only-of-type {\n",
              "        vertical-align: middle;\n",
              "    }\n",
              "\n",
              "    .dataframe tbody tr th {\n",
              "        vertical-align: top;\n",
              "    }\n",
              "\n",
              "    .dataframe thead th {\n",
              "        text-align: right;\n",
              "    }\n",
              "</style>\n",
              "<table border=\"1\" class=\"dataframe\">\n",
              "  <thead>\n",
              "    <tr style=\"text-align: right;\">\n",
              "      <th></th>\n",
              "      <th>ids</th>\n",
              "      <th>product_id</th>\n",
              "      <th>created_at</th>\n",
              "      <th>sold_at</th>\n",
              "      <th>costs</th>\n",
              "      <th>product_category</th>\n",
              "      <th>product_name</th>\n",
              "      <th>product_brand</th>\n",
              "      <th>product_retail_price</th>\n",
              "      <th>product_department</th>\n",
              "      <th>product_sku</th>\n",
              "      <th>product_distribution_center_id</th>\n",
              "    </tr>\n",
              "  </thead>\n",
              "  <tbody>\n",
              "    <tr>\n",
              "      <th>0</th>\n",
              "      <td>90967</td>\n",
              "      <td>16898</td>\n",
              "      <td>2021-07-19 02:20:10+00:00</td>\n",
              "      <td>2021-07-20 14:34:10+00:00</td>\n",
              "      <td>13.925</td>\n",
              "      <td>Tops &amp; Tees</td>\n",
              "      <td>Quiksilver Waterman Men's On The Rise</td>\n",
              "      <td>Allegra K</td>\n",
              "      <td>25.0</td>\n",
              "      <td>Men</td>\n",
              "      <td>22811EE19846217512507785E74D12CC</td>\n",
              "      <td>3</td>\n",
              "    </tr>\n",
              "    <tr>\n",
              "      <th>1</th>\n",
              "      <td>90968</td>\n",
              "      <td>16898</td>\n",
              "      <td>2020-04-13 07:46:00+00:00</td>\n",
              "      <td>NaN</td>\n",
              "      <td>13.925</td>\n",
              "      <td>Tops &amp; Tees</td>\n",
              "      <td>Quiksilver Waterman Men's On The Rise</td>\n",
              "      <td>Allegra K</td>\n",
              "      <td>25.0</td>\n",
              "      <td>Men</td>\n",
              "      <td>22811EE19846217512507785E74D12CC</td>\n",
              "      <td>3</td>\n",
              "    </tr>\n",
              "    <tr>\n",
              "      <th>2</th>\n",
              "      <td>90969</td>\n",
              "      <td>16898</td>\n",
              "      <td>2020-09-02 17:43:00+00:00</td>\n",
              "      <td>NaN</td>\n",
              "      <td>13.925</td>\n",
              "      <td>Tops &amp; Tees</td>\n",
              "      <td>Quiksilver Waterman Men's On The Rise</td>\n",
              "      <td>Allegra K</td>\n",
              "      <td>25.0</td>\n",
              "      <td>Men</td>\n",
              "      <td>22811EE19846217512507785E74D12CC</td>\n",
              "      <td>3</td>\n",
              "    </tr>\n",
              "    <tr>\n",
              "      <th>3</th>\n",
              "      <td>90970</td>\n",
              "      <td>16898</td>\n",
              "      <td>2021-08-19 15:17:00+00:00</td>\n",
              "      <td>NaN</td>\n",
              "      <td>13.925</td>\n",
              "      <td>Tops &amp; Tees</td>\n",
              "      <td>Quiksilver Waterman Men's On The Rise</td>\n",
              "      <td>Allegra K</td>\n",
              "      <td>25.0</td>\n",
              "      <td>Men</td>\n",
              "      <td>22811EE19846217512507785E74D12CC</td>\n",
              "      <td>3</td>\n",
              "    </tr>\n",
              "    <tr>\n",
              "      <th>4</th>\n",
              "      <td>96715</td>\n",
              "      <td>16898</td>\n",
              "      <td>2020-05-09 11:16:10+00:00</td>\n",
              "      <td>2020-06-23 23:59:10+00:00</td>\n",
              "      <td>13.925</td>\n",
              "      <td>Tops &amp; Tees</td>\n",
              "      <td>Quiksilver Waterman Men's On The Rise</td>\n",
              "      <td>Allegra K</td>\n",
              "      <td>25.0</td>\n",
              "      <td>Men</td>\n",
              "      <td>22811EE19846217512507785E74D12CC</td>\n",
              "      <td>3</td>\n",
              "    </tr>\n",
              "  </tbody>\n",
              "</table>\n",
              "</div>\n",
              "      <button class=\"colab-df-convert\" onclick=\"convertToInteractive('df-1a41744b-8c05-4944-b7b8-e75deb3cca60')\"\n",
              "              title=\"Convert this dataframe to an interactive table.\"\n",
              "              style=\"display:none;\">\n",
              "        \n",
              "  <svg xmlns=\"http://www.w3.org/2000/svg\" height=\"24px\"viewBox=\"0 0 24 24\"\n",
              "       width=\"24px\">\n",
              "    <path d=\"M0 0h24v24H0V0z\" fill=\"none\"/>\n",
              "    <path d=\"M18.56 5.44l.94 2.06.94-2.06 2.06-.94-2.06-.94-.94-2.06-.94 2.06-2.06.94zm-11 1L8.5 8.5l.94-2.06 2.06-.94-2.06-.94L8.5 2.5l-.94 2.06-2.06.94zm10 10l.94 2.06.94-2.06 2.06-.94-2.06-.94-.94-2.06-.94 2.06-2.06.94z\"/><path d=\"M17.41 7.96l-1.37-1.37c-.4-.4-.92-.59-1.43-.59-.52 0-1.04.2-1.43.59L10.3 9.45l-7.72 7.72c-.78.78-.78 2.05 0 2.83L4 21.41c.39.39.9.59 1.41.59.51 0 1.02-.2 1.41-.59l7.78-7.78 2.81-2.81c.8-.78.8-2.07 0-2.86zM5.41 20L4 18.59l7.72-7.72 1.47 1.35L5.41 20z\"/>\n",
              "  </svg>\n",
              "      </button>\n",
              "      \n",
              "  <style>\n",
              "    .colab-df-container {\n",
              "      display:flex;\n",
              "      flex-wrap:wrap;\n",
              "      gap: 12px;\n",
              "    }\n",
              "\n",
              "    .colab-df-convert {\n",
              "      background-color: #E8F0FE;\n",
              "      border: none;\n",
              "      border-radius: 50%;\n",
              "      cursor: pointer;\n",
              "      display: none;\n",
              "      fill: #1967D2;\n",
              "      height: 32px;\n",
              "      padding: 0 0 0 0;\n",
              "      width: 32px;\n",
              "    }\n",
              "\n",
              "    .colab-df-convert:hover {\n",
              "      background-color: #E2EBFA;\n",
              "      box-shadow: 0px 1px 2px rgba(60, 64, 67, 0.3), 0px 1px 3px 1px rgba(60, 64, 67, 0.15);\n",
              "      fill: #174EA6;\n",
              "    }\n",
              "\n",
              "    [theme=dark] .colab-df-convert {\n",
              "      background-color: #3B4455;\n",
              "      fill: #D2E3FC;\n",
              "    }\n",
              "\n",
              "    [theme=dark] .colab-df-convert:hover {\n",
              "      background-color: #434B5C;\n",
              "      box-shadow: 0px 1px 3px 1px rgba(0, 0, 0, 0.15);\n",
              "      filter: drop-shadow(0px 1px 2px rgba(0, 0, 0, 0.3));\n",
              "      fill: #FFFFFF;\n",
              "    }\n",
              "  </style>\n",
              "\n",
              "      <script>\n",
              "        const buttonEl =\n",
              "          document.querySelector('#df-1a41744b-8c05-4944-b7b8-e75deb3cca60 button.colab-df-convert');\n",
              "        buttonEl.style.display =\n",
              "          google.colab.kernel.accessAllowed ? 'block' : 'none';\n",
              "\n",
              "        async function convertToInteractive(key) {\n",
              "          const element = document.querySelector('#df-1a41744b-8c05-4944-b7b8-e75deb3cca60');\n",
              "          const dataTable =\n",
              "            await google.colab.kernel.invokeFunction('convertToInteractive',\n",
              "                                                     [key], {});\n",
              "          if (!dataTable) return;\n",
              "\n",
              "          const docLinkHtml = 'Like what you see? Visit the ' +\n",
              "            '<a target=\"_blank\" href=https://colab.research.google.com/notebooks/data_table.ipynb>data table notebook</a>'\n",
              "            + ' to learn more about interactive tables.';\n",
              "          element.innerHTML = '';\n",
              "          dataTable['output_type'] = 'display_data';\n",
              "          await google.colab.output.renderOutput(dataTable, element);\n",
              "          const docLink = document.createElement('div');\n",
              "          docLink.innerHTML = docLinkHtml;\n",
              "          element.appendChild(docLink);\n",
              "        }\n",
              "      </script>\n",
              "    </div>\n",
              "  </div>\n",
              "  "
            ]
          },
          "metadata": {}
        }
      ]
    },
    {
      "cell_type": "code",
      "source": [
        "data_products.isnull().sum()"
      ],
      "metadata": {
        "colab": {
          "base_uri": "https://localhost:8080/"
        },
        "id": "jMCHJXr-KcuO",
        "outputId": "bc48bafe-8ec5-4c3c-eb21-2a0dacf5a138"
      },
      "execution_count": null,
      "outputs": [
        {
          "output_type": "execute_result",
          "data": {
            "text/plain": [
              "ids                                    0\n",
              "product_id                             0\n",
              "created_at                             0\n",
              "sold_at                           306886\n",
              "costs                                  0\n",
              "product_category                       0\n",
              "product_name                          35\n",
              "product_brand                        374\n",
              "product_retail_price                   0\n",
              "product_department                     0\n",
              "product_sku                            0\n",
              "product_distribution_center_id         0\n",
              "dtype: int64"
            ]
          },
          "metadata": {},
          "execution_count": 7
        }
      ]
    },
    {
      "cell_type": "code",
      "source": [
        "data_events.isnull().sum()"
      ],
      "metadata": {
        "colab": {
          "base_uri": "https://localhost:8080/"
        },
        "id": "tZDCsorA7S4y",
        "outputId": "cf6cfb7a-ba91-4911-9d14-a02b369cf72c"
      },
      "execution_count": null,
      "outputs": [
        {
          "output_type": "execute_result",
          "data": {
            "text/plain": [
              "id                       0\n",
              "user_id            1125498\n",
              "sequence_number          0\n",
              "session_id               0\n",
              "created_at               0\n",
              "ip_address               0\n",
              "city                 23862\n",
              "state                    0\n",
              "postal_code              0\n",
              "browser                  0\n",
              "traffic_source           0\n",
              "uri                      0\n",
              "event_type               0\n",
              "dtype: int64"
            ]
          },
          "metadata": {},
          "execution_count": 8
        }
      ]
    },
    {
      "cell_type": "code",
      "source": [
        "data_products['product_brand'] = data_products['product_brand'].fillna(data_products['product_brand'].mode()[0])"
      ],
      "metadata": {
        "id": "XJYyhJ1j4MoX"
      },
      "execution_count": null,
      "outputs": []
    },
    {
      "cell_type": "code",
      "source": [
        "data_products['product_name'] = data_products['product_name'].fillna(data_products['product_name'].mode()[0])"
      ],
      "metadata": {
        "id": "Q4Sq5Daf5qVR"
      },
      "execution_count": null,
      "outputs": []
    },
    {
      "cell_type": "code",
      "source": [
        "data_events['city'] = data_events['city'].fillna(data_events['city'].mode()[0])"
      ],
      "metadata": {
        "id": "XLf58MqP8Ju6"
      },
      "execution_count": null,
      "outputs": []
    },
    {
      "cell_type": "code",
      "source": [
        "data_products.isnull().sum()"
      ],
      "metadata": {
        "colab": {
          "base_uri": "https://localhost:8080/"
        },
        "id": "6gvLVSCHKoGF",
        "outputId": "86c61dc0-a7e3-4f82-e78e-dad0d4cd0a90"
      },
      "execution_count": null,
      "outputs": [
        {
          "output_type": "execute_result",
          "data": {
            "text/plain": [
              "ids                                    0\n",
              "product_id                             0\n",
              "created_at                             0\n",
              "sold_at                           306886\n",
              "costs                                  0\n",
              "product_category                       0\n",
              "product_name                           0\n",
              "product_brand                          0\n",
              "product_retail_price                   0\n",
              "product_department                     0\n",
              "product_sku                            0\n",
              "product_distribution_center_id         0\n",
              "dtype: int64"
            ]
          },
          "metadata": {},
          "execution_count": 12
        }
      ]
    },
    {
      "cell_type": "code",
      "source": [
        "data_events.isnull().sum()"
      ],
      "metadata": {
        "colab": {
          "base_uri": "https://localhost:8080/"
        },
        "id": "lt2ovao6obet",
        "outputId": "5bcddca1-a17a-4350-8ab0-4dba3325d6e7"
      },
      "execution_count": null,
      "outputs": [
        {
          "output_type": "execute_result",
          "data": {
            "text/plain": [
              "id                       0\n",
              "user_id            1125498\n",
              "sequence_number          0\n",
              "session_id               0\n",
              "created_at               0\n",
              "ip_address               0\n",
              "city                     0\n",
              "state                    0\n",
              "postal_code              0\n",
              "browser                  0\n",
              "traffic_source           0\n",
              "uri                      0\n",
              "event_type               0\n",
              "dtype: int64"
            ]
          },
          "metadata": {},
          "execution_count": 13
        }
      ]
    },
    {
      "cell_type": "code",
      "source": [
        "data_products.describe()"
      ],
      "metadata": {
        "colab": {
          "base_uri": "https://localhost:8080/",
          "height": 300
        },
        "id": "j43M8EnZ_96y",
        "outputId": "bd2902b7-ede2-4da8-889b-2be6003204f1"
      },
      "execution_count": null,
      "outputs": [
        {
          "output_type": "execute_result",
          "data": {
            "text/plain": [
              "                 ids     product_id          costs  product_retail_price  \\\n",
              "count  487394.000000  487394.000000  487394.000000         487394.000000   \n",
              "mean   243697.500000   15292.257424      28.746374             59.772834   \n",
              "std    140698.672888    8408.118539      30.629290             65.871768   \n",
              "min         1.000000       1.000000       0.008300              0.020000   \n",
              "25%    121849.250000    8047.000000      11.394300             24.780001   \n",
              "50%    243697.500000   16032.000000      19.944301             39.990002   \n",
              "75%    365545.750000   22558.000000      34.698691             69.949997   \n",
              "max    487394.000000   29120.000000     557.151002            999.000000   \n",
              "\n",
              "       product_distribution_center_id  \n",
              "count                   487394.000000  \n",
              "mean                         4.992101  \n",
              "std                          2.895917  \n",
              "min                          1.000000  \n",
              "25%                          2.000000  \n",
              "50%                          5.000000  \n",
              "75%                          8.000000  \n",
              "max                         10.000000  "
            ],
            "text/html": [
              "\n",
              "  <div id=\"df-fdb72043-5186-4675-a98e-a157f2e26923\">\n",
              "    <div class=\"colab-df-container\">\n",
              "      <div>\n",
              "<style scoped>\n",
              "    .dataframe tbody tr th:only-of-type {\n",
              "        vertical-align: middle;\n",
              "    }\n",
              "\n",
              "    .dataframe tbody tr th {\n",
              "        vertical-align: top;\n",
              "    }\n",
              "\n",
              "    .dataframe thead th {\n",
              "        text-align: right;\n",
              "    }\n",
              "</style>\n",
              "<table border=\"1\" class=\"dataframe\">\n",
              "  <thead>\n",
              "    <tr style=\"text-align: right;\">\n",
              "      <th></th>\n",
              "      <th>ids</th>\n",
              "      <th>product_id</th>\n",
              "      <th>costs</th>\n",
              "      <th>product_retail_price</th>\n",
              "      <th>product_distribution_center_id</th>\n",
              "    </tr>\n",
              "  </thead>\n",
              "  <tbody>\n",
              "    <tr>\n",
              "      <th>count</th>\n",
              "      <td>487394.000000</td>\n",
              "      <td>487394.000000</td>\n",
              "      <td>487394.000000</td>\n",
              "      <td>487394.000000</td>\n",
              "      <td>487394.000000</td>\n",
              "    </tr>\n",
              "    <tr>\n",
              "      <th>mean</th>\n",
              "      <td>243697.500000</td>\n",
              "      <td>15292.257424</td>\n",
              "      <td>28.746374</td>\n",
              "      <td>59.772834</td>\n",
              "      <td>4.992101</td>\n",
              "    </tr>\n",
              "    <tr>\n",
              "      <th>std</th>\n",
              "      <td>140698.672888</td>\n",
              "      <td>8408.118539</td>\n",
              "      <td>30.629290</td>\n",
              "      <td>65.871768</td>\n",
              "      <td>2.895917</td>\n",
              "    </tr>\n",
              "    <tr>\n",
              "      <th>min</th>\n",
              "      <td>1.000000</td>\n",
              "      <td>1.000000</td>\n",
              "      <td>0.008300</td>\n",
              "      <td>0.020000</td>\n",
              "      <td>1.000000</td>\n",
              "    </tr>\n",
              "    <tr>\n",
              "      <th>25%</th>\n",
              "      <td>121849.250000</td>\n",
              "      <td>8047.000000</td>\n",
              "      <td>11.394300</td>\n",
              "      <td>24.780001</td>\n",
              "      <td>2.000000</td>\n",
              "    </tr>\n",
              "    <tr>\n",
              "      <th>50%</th>\n",
              "      <td>243697.500000</td>\n",
              "      <td>16032.000000</td>\n",
              "      <td>19.944301</td>\n",
              "      <td>39.990002</td>\n",
              "      <td>5.000000</td>\n",
              "    </tr>\n",
              "    <tr>\n",
              "      <th>75%</th>\n",
              "      <td>365545.750000</td>\n",
              "      <td>22558.000000</td>\n",
              "      <td>34.698691</td>\n",
              "      <td>69.949997</td>\n",
              "      <td>8.000000</td>\n",
              "    </tr>\n",
              "    <tr>\n",
              "      <th>max</th>\n",
              "      <td>487394.000000</td>\n",
              "      <td>29120.000000</td>\n",
              "      <td>557.151002</td>\n",
              "      <td>999.000000</td>\n",
              "      <td>10.000000</td>\n",
              "    </tr>\n",
              "  </tbody>\n",
              "</table>\n",
              "</div>\n",
              "      <button class=\"colab-df-convert\" onclick=\"convertToInteractive('df-fdb72043-5186-4675-a98e-a157f2e26923')\"\n",
              "              title=\"Convert this dataframe to an interactive table.\"\n",
              "              style=\"display:none;\">\n",
              "        \n",
              "  <svg xmlns=\"http://www.w3.org/2000/svg\" height=\"24px\"viewBox=\"0 0 24 24\"\n",
              "       width=\"24px\">\n",
              "    <path d=\"M0 0h24v24H0V0z\" fill=\"none\"/>\n",
              "    <path d=\"M18.56 5.44l.94 2.06.94-2.06 2.06-.94-2.06-.94-.94-2.06-.94 2.06-2.06.94zm-11 1L8.5 8.5l.94-2.06 2.06-.94-2.06-.94L8.5 2.5l-.94 2.06-2.06.94zm10 10l.94 2.06.94-2.06 2.06-.94-2.06-.94-.94-2.06-.94 2.06-2.06.94z\"/><path d=\"M17.41 7.96l-1.37-1.37c-.4-.4-.92-.59-1.43-.59-.52 0-1.04.2-1.43.59L10.3 9.45l-7.72 7.72c-.78.78-.78 2.05 0 2.83L4 21.41c.39.39.9.59 1.41.59.51 0 1.02-.2 1.41-.59l7.78-7.78 2.81-2.81c.8-.78.8-2.07 0-2.86zM5.41 20L4 18.59l7.72-7.72 1.47 1.35L5.41 20z\"/>\n",
              "  </svg>\n",
              "      </button>\n",
              "      \n",
              "  <style>\n",
              "    .colab-df-container {\n",
              "      display:flex;\n",
              "      flex-wrap:wrap;\n",
              "      gap: 12px;\n",
              "    }\n",
              "\n",
              "    .colab-df-convert {\n",
              "      background-color: #E8F0FE;\n",
              "      border: none;\n",
              "      border-radius: 50%;\n",
              "      cursor: pointer;\n",
              "      display: none;\n",
              "      fill: #1967D2;\n",
              "      height: 32px;\n",
              "      padding: 0 0 0 0;\n",
              "      width: 32px;\n",
              "    }\n",
              "\n",
              "    .colab-df-convert:hover {\n",
              "      background-color: #E2EBFA;\n",
              "      box-shadow: 0px 1px 2px rgba(60, 64, 67, 0.3), 0px 1px 3px 1px rgba(60, 64, 67, 0.15);\n",
              "      fill: #174EA6;\n",
              "    }\n",
              "\n",
              "    [theme=dark] .colab-df-convert {\n",
              "      background-color: #3B4455;\n",
              "      fill: #D2E3FC;\n",
              "    }\n",
              "\n",
              "    [theme=dark] .colab-df-convert:hover {\n",
              "      background-color: #434B5C;\n",
              "      box-shadow: 0px 1px 3px 1px rgba(0, 0, 0, 0.15);\n",
              "      filter: drop-shadow(0px 1px 2px rgba(0, 0, 0, 0.3));\n",
              "      fill: #FFFFFF;\n",
              "    }\n",
              "  </style>\n",
              "\n",
              "      <script>\n",
              "        const buttonEl =\n",
              "          document.querySelector('#df-fdb72043-5186-4675-a98e-a157f2e26923 button.colab-df-convert');\n",
              "        buttonEl.style.display =\n",
              "          google.colab.kernel.accessAllowed ? 'block' : 'none';\n",
              "\n",
              "        async function convertToInteractive(key) {\n",
              "          const element = document.querySelector('#df-fdb72043-5186-4675-a98e-a157f2e26923');\n",
              "          const dataTable =\n",
              "            await google.colab.kernel.invokeFunction('convertToInteractive',\n",
              "                                                     [key], {});\n",
              "          if (!dataTable) return;\n",
              "\n",
              "          const docLinkHtml = 'Like what you see? Visit the ' +\n",
              "            '<a target=\"_blank\" href=https://colab.research.google.com/notebooks/data_table.ipynb>data table notebook</a>'\n",
              "            + ' to learn more about interactive tables.';\n",
              "          element.innerHTML = '';\n",
              "          dataTable['output_type'] = 'display_data';\n",
              "          await google.colab.output.renderOutput(dataTable, element);\n",
              "          const docLink = document.createElement('div');\n",
              "          docLink.innerHTML = docLinkHtml;\n",
              "          element.appendChild(docLink);\n",
              "        }\n",
              "      </script>\n",
              "    </div>\n",
              "  </div>\n",
              "  "
            ]
          },
          "metadata": {},
          "execution_count": 116
        }
      ]
    },
    {
      "cell_type": "code",
      "source": [
        "def plot_count(data, x=None, y=None, palette=None, figsize=(12, 6), **kwargs):\n",
        "    column_order = data[x or y].value_counts().index\n",
        "\n",
        "    plt.figure(figsize=figsize)\n",
        "    sns.countplot(\n",
        "        x=x, y=y, data=data, order=column_order,\n",
        "        palette=palette, **kwargs\n",
        "    )\n",
        "    plt.grid(False)\n",
        "\n",
        "\n",
        "MAIN_COLOR = [\"#29B5BF\"]    # warna utama untuk visualisasi\n",
        "OTHER_COLOR = [\"#777777\"]    # warna lainnya untuk visualisasi"
      ],
      "metadata": {
        "id": "OU8NEq0vLTrA"
      },
      "execution_count": null,
      "outputs": []
    },
    {
      "cell_type": "code",
      "source": [
        "plt.figure(figsize=(15,6))\n",
        "plot_count(x=\"event_type\", data=data_events)"
      ],
      "metadata": {
        "colab": {
          "base_uri": "https://localhost:8080/",
          "height": 406
        },
        "id": "WHPSRTLKLZrH",
        "outputId": "bd9588b0-b5e8-463c-9bfe-a6497fbb9f30"
      },
      "execution_count": null,
      "outputs": [
        {
          "output_type": "display_data",
          "data": {
            "text/plain": [
              "<Figure size 1080x432 with 0 Axes>"
            ]
          },
          "metadata": {}
        },
        {
          "output_type": "display_data",
          "data": {
            "text/plain": [
              "<Figure size 864x432 with 1 Axes>"
            ],
            "image/png": "[encoded data removed]"
          },
          "metadata": {
            "needs_background": "light"
          }
        }
      ]
    },
    {
      "cell_type": "code",
      "source": [
        "plt.figure(figsize=(15,6))\n",
        "plot_count(x=\"traffic_source\", data=data_events)"
      ],
      "metadata": {
        "colab": {
          "base_uri": "https://localhost:8080/",
          "height": 418
        },
        "id": "qVfI70rKmHLw",
        "outputId": "30c4d448-e8ac-4208-8e91-6920aeadf6f1"
      },
      "execution_count": null,
      "outputs": [
        {
          "output_type": "display_data",
          "data": {
            "text/plain": [
              "<Figure size 1080x432 with 0 Axes>"
            ]
          },
          "metadata": {}
        },
        {
          "output_type": "display_data",
          "data": {
            "text/plain": [
              "<Figure size 864x432 with 1 Axes>"
            ],
            "image/png": "[encoded data removed]"
          },
          "metadata": {
            "needs_background": "light"
          }
        }
      ]
    },
    {
      "cell_type": "code",
      "source": [
        "plot_count(x=\"product_department\", data=data_products)"
      ],
      "metadata": {
        "id": "Cjr9CDmHlYCB",
        "colab": {
          "base_uri": "https://localhost:8080/",
          "height": 389
        },
        "outputId": "62657165-0d7c-4ed8-c2d0-1e02d0455ccc"
      },
      "execution_count": null,
      "outputs": [
        {
          "output_type": "display_data",
          "data": {
            "text/plain": [
              "<Figure size 864x432 with 1 Axes>"
            ],
            "image/png": "[encoded data removed]"
          },
          "metadata": {
            "needs_background": "light"
          }
        }
      ]
    },
    {
      "cell_type": "code",
      "source": [
        "plt.figure(figsize=(15,6))\n",
        "plot_count(x=\"browser\", data=data_events)"
      ],
      "metadata": {
        "id": "bpvqq27smGCi",
        "colab": {
          "base_uri": "https://localhost:8080/",
          "height": 417
        },
        "outputId": "6d34d070-8a42-4293-eeea-8efdc3076ad5"
      },
      "execution_count": null,
      "outputs": [
        {
          "output_type": "display_data",
          "data": {
            "text/plain": [
              "<Figure size 1080x432 with 0 Axes>"
            ]
          },
          "metadata": {}
        },
        {
          "output_type": "display_data",
          "data": {
            "text/plain": [
              "<Figure size 864x432 with 1 Axes>"
            ],
            "image/png": "[encoded data removed]"
          },
          "metadata": {
            "needs_background": "light"
          }
        }
      ]
    },
    {
      "cell_type": "code",
      "source": [
        "data_products.drop(['ids', 'product_id', 'product_distribution_center_id'],  axis=1, inplace=True)"
      ],
      "metadata": {
        "id": "8NG9YGRnztix"
      },
      "execution_count": null,
      "outputs": []
    },
    {
      "cell_type": "code",
      "source": [
        "# Cek Korelasi antara kolom di data kita\n",
        "# korelasi mengecek nilai diatas 0.75 atau min 0.75\n",
        "corr_matrix = data_products.corr().abs()\n",
        "\n",
        "\n",
        "upper = corr_matrix.where(np.triu(np.ones(corr_matrix.shape), k=1).astype(np.bool))\n",
        "\n",
        "plt.figure(figsize=(10,10))\n",
        "sns.heatmap(upper, annot=True, cmap='Blues')"
      ],
      "metadata": {
        "colab": {
          "base_uri": "https://localhost:8080/",
          "height": 681
        },
        "id": "ym03d_pBgg36",
        "outputId": "339b282a-df4c-49b8-efb9-e6a5e2f2d3d4"
      },
      "execution_count": null,
      "outputs": [
        {
          "output_type": "stream",
          "name": "stderr",
          "text": [
            "/usr/local/lib/python3.7/dist-packages/ipykernel_launcher.py:6: DeprecationWarning: `np.bool` is a deprecated alias for the builtin `bool`. To silence this warning, use `bool` by itself. Doing this will not modify any behavior and is safe. If you specifically wanted the numpy scalar type, use `np.bool_` here.\n",
            "Deprecated in NumPy 1.20; for more details and guidance: https://numpy.org/devdocs/release/1.20.0-notes.html#deprecations\n",
            "  \n"
          ]
        },
        {
          "output_type": "execute_result",
          "data": {
            "text/plain": [
              "<matplotlib.axes._subplots.AxesSubplot at 0x7feae91c4450>"
            ]
          },
          "metadata": {},
          "execution_count": 8
        },
        {
          "output_type": "display_data",
          "data": {
            "text/plain": [
              "<Figure size 720x720 with 2 Axes>"
            ],
            "image/png": "[encoded data removed]"
          },
          "metadata": {
            "needs_background": "light"
          }
        }
      ]
    },
    {
      "cell_type": "code",
      "source": [
        "f = plt.figure(figsize=(20,9))\n",
        "f.add_subplot(1,2,1)\n",
        "data_products['costs'].plot(kind='kde')\n",
        "f.add_subplot(1,2,2)\n",
        "plt.boxplot(data_products['costs'])\n",
        "plt.show()"
      ],
      "metadata": {
        "colab": {
          "base_uri": "https://localhost:8080/",
          "height": 537
        },
        "id": "FOuwZuiEr5NC",
        "outputId": "35fd0f0e-9330-4983-f8c4-cf7a054ca543"
      },
      "execution_count": null,
      "outputs": [
        {
          "output_type": "display_data",
          "data": {
            "text/plain": [
              "<Figure size 1440x648 with 2 Axes>"
            ],
            "image/png": "[encoded data removed]"
          },
          "metadata": {
            "needs_background": "light"
          }
        }
      ]
    },
    {
      "cell_type": "code",
      "source": [
        "f = plt.figure(figsize=(20,10))\n",
        "f.add_subplot(1,2,1)\n",
        "data_products['product_retail_price'].plot(kind='kde')\n",
        "f.add_subplot(1,2,2)\n",
        "plt.boxplot(data_products['product_retail_price'])\n",
        "plt.show()"
      ],
      "metadata": {
        "colab": {
          "base_uri": "https://localhost:8080/",
          "height": 592
        },
        "id": "xMPK67W9sXOc",
        "outputId": "48fedaaf-84ca-48eb-9793-1a0ec7c78354"
      },
      "execution_count": null,
      "outputs": [
        {
          "output_type": "display_data",
          "data": {
            "text/plain": [
              "<Figure size 1440x720 with 2 Axes>"
            ],
            "image/png": "[encoded data removed]"
          },
          "metadata": {
            "needs_background": "light"
          }
        }
      ]
    },
    {
      "cell_type": "code",
      "source": [
        "plt.figure(figsize=(12, 6))\n",
        "sns.boxplot(x=\"product_retail_price\", data=data_products)\n",
        "plt.show()"
      ],
      "metadata": {
        "id": "99gq2X9-8p84",
        "outputId": "eb78ad60-b159-4c93-c9c5-d9005c39ae33",
        "colab": {
          "base_uri": "https://localhost:8080/",
          "height": 389
        }
      },
      "execution_count": null,
      "outputs": [
        {
          "output_type": "display_data",
          "data": {
            "text/plain": [
              "<Figure size 864x432 with 1 Axes>"
            ],
            "image/png": "[encoded data removed]"
          },
          "metadata": {
            "needs_background": "light"
          }
        }
      ]
    },
    {
      "cell_type": "code",
      "source": [
        "plt.figure(figsize=(12, 6))\n",
        "sns.boxplot(x=\"costs\", data=data_products)\n",
        "plt.show()"
      ],
      "metadata": {
        "id": "0Y6d2rCp8rrK",
        "outputId": "b81f0266-4199-4551-9b72-ca0b44001230",
        "colab": {
          "base_uri": "https://localhost:8080/",
          "height": 388
        }
      },
      "execution_count": null,
      "outputs": [
        {
          "output_type": "display_data",
          "data": {
            "text/plain": [
              "<Figure size 864x432 with 1 Axes>"
            ],
            "image/png": "[encoded data removed]"
          },
          "metadata": {
            "needs_background": "light"
          }
        }
      ]
    },
    {
      "cell_type": "code",
      "source": [
        "plt.figure(figsize=(10,10))\n",
        "plt.scatter(data_products['costs'], data_products['product_retail_price'])\n",
        "plt.xlabel('costs')\n",
        "plt.ylabel('product_retail_price')\n",
        "plt.title('Scatter Plot costs vs retail_price')\n",
        "plt.show()"
      ],
      "metadata": {
        "colab": {
          "base_uri": "https://localhost:8080/",
          "height": 621
        },
        "id": "zuAd-IcCs4gH",
        "outputId": "ecf6d2ae-568a-46b8-ba90-2986e609420d"
      },
      "execution_count": null,
      "outputs": [
        {
          "output_type": "display_data",
          "data": {
            "text/plain": [
              "<Figure size 720x720 with 1 Axes>"
            ],
            "image/png": "[encoded data removed]"
          },
          "metadata": {
            "needs_background": "light"
          }
        }
      ]
    },
    {
      "cell_type": "markdown",
      "source": [
        "Bivariate analysis costs & product_retail_price"
      ],
      "metadata": {
        "id": "ZdDODYotU037"
      }
    },
    {
      "cell_type": "code",
      "source": [
        "data_products.corr()"
      ],
      "metadata": {
        "colab": {
          "base_uri": "https://localhost:8080/",
          "height": 206
        },
        "id": "qWkmdVoNCgte",
        "outputId": "6afce782-57ff-45b1-f0fc-554da8452c20"
      },
      "execution_count": null,
      "outputs": [
        {
          "output_type": "execute_result",
          "data": {
            "text/plain": [
              "                                     ids  product_id     costs  \\\n",
              "ids                             1.000000   -0.002393 -0.002823   \n",
              "product_id                     -0.002393    1.000000 -0.008774   \n",
              "costs                          -0.002823   -0.008774  1.000000   \n",
              "product_retail_price           -0.003294   -0.001736  0.982524   \n",
              "product_distribution_center_id  0.004094    0.018531  0.005684   \n",
              "\n",
              "                                product_retail_price  \\\n",
              "ids                                        -0.003294   \n",
              "product_id                                 -0.001736   \n",
              "costs                                       0.982524   \n",
              "product_retail_price                        1.000000   \n",
              "product_distribution_center_id             -0.007425   \n",
              "\n",
              "                                product_distribution_center_id  \n",
              "ids                                                   0.004094  \n",
              "product_id                                            0.018531  \n",
              "costs                                                 0.005684  \n",
              "product_retail_price                                 -0.007425  \n",
              "product_distribution_center_id                        1.000000  "
            ],
            "text/html": [
              "\n",
              "  <div id=\"df-4b97d1a0-a792-4a59-8c8a-0319c4dd1eeb\">\n",
              "    <div class=\"colab-df-container\">\n",
              "      <div>\n",
              "<style scoped>\n",
              "    .dataframe tbody tr th:only-of-type {\n",
              "        vertical-align: middle;\n",
              "    }\n",
              "\n",
              "    .dataframe tbody tr th {\n",
              "        vertical-align: top;\n",
              "    }\n",
              "\n",
              "    .dataframe thead th {\n",
              "        text-align: right;\n",
              "    }\n",
              "</style>\n",
              "<table border=\"1\" class=\"dataframe\">\n",
              "  <thead>\n",
              "    <tr style=\"text-align: right;\">\n",
              "      <th></th>\n",
              "      <th>ids</th>\n",
              "      <th>product_id</th>\n",
              "      <th>costs</th>\n",
              "      <th>product_retail_price</th>\n",
              "      <th>product_distribution_center_id</th>\n",
              "    </tr>\n",
              "  </thead>\n",
              "  <tbody>\n",
              "    <tr>\n",
              "      <th>ids</th>\n",
              "      <td>1.000000</td>\n",
              "      <td>-0.002393</td>\n",
              "      <td>-0.002823</td>\n",
              "      <td>-0.003294</td>\n",
              "      <td>0.004094</td>\n",
              "    </tr>\n",
              "    <tr>\n",
              "      <th>product_id</th>\n",
              "      <td>-0.002393</td>\n",
              "      <td>1.000000</td>\n",
              "      <td>-0.008774</td>\n",
              "      <td>-0.001736</td>\n",
              "      <td>0.018531</td>\n",
              "    </tr>\n",
              "    <tr>\n",
              "      <th>costs</th>\n",
              "      <td>-0.002823</td>\n",
              "      <td>-0.008774</td>\n",
              "      <td>1.000000</td>\n",
              "      <td>0.982524</td>\n",
              "      <td>0.005684</td>\n",
              "    </tr>\n",
              "    <tr>\n",
              "      <th>product_retail_price</th>\n",
              "      <td>-0.003294</td>\n",
              "      <td>-0.001736</td>\n",
              "      <td>0.982524</td>\n",
              "      <td>1.000000</td>\n",
              "      <td>-0.007425</td>\n",
              "    </tr>\n",
              "    <tr>\n",
              "      <th>product_distribution_center_id</th>\n",
              "      <td>0.004094</td>\n",
              "      <td>0.018531</td>\n",
              "      <td>0.005684</td>\n",
              "      <td>-0.007425</td>\n",
              "      <td>1.000000</td>\n",
              "    </tr>\n",
              "  </tbody>\n",
              "</table>\n",
              "</div>\n",
              "      <button class=\"colab-df-convert\" onclick=\"convertToInteractive('df-4b97d1a0-a792-4a59-8c8a-0319c4dd1eeb')\"\n",
              "              title=\"Convert this dataframe to an interactive table.\"\n",
              "              style=\"display:none;\">\n",
              "        \n",
              "  <svg xmlns=\"http://www.w3.org/2000/svg\" height=\"24px\"viewBox=\"0 0 24 24\"\n",
              "       width=\"24px\">\n",
              "    <path d=\"M0 0h24v24H0V0z\" fill=\"none\"/>\n",
              "    <path d=\"M18.56 5.44l.94 2.06.94-2.06 2.06-.94-2.06-.94-.94-2.06-.94 2.06-2.06.94zm-11 1L8.5 8.5l.94-2.06 2.06-.94-2.06-.94L8.5 2.5l-.94 2.06-2.06.94zm10 10l.94 2.06.94-2.06 2.06-.94-2.06-.94-.94-2.06-.94 2.06-2.06.94z\"/><path d=\"M17.41 7.96l-1.37-1.37c-.4-.4-.92-.59-1.43-.59-.52 0-1.04.2-1.43.59L10.3 9.45l-7.72 7.72c-.78.78-.78 2.05 0 2.83L4 21.41c.39.39.9.59 1.41.59.51 0 1.02-.2 1.41-.59l7.78-7.78 2.81-2.81c.8-.78.8-2.07 0-2.86zM5.41 20L4 18.59l7.72-7.72 1.47 1.35L5.41 20z\"/>\n",
              "  </svg>\n",
              "      </button>\n",
              "      \n",
              "  <style>\n",
              "    .colab-df-container {\n",
              "      display:flex;\n",
              "      flex-wrap:wrap;\n",
              "      gap: 12px;\n",
              "    }\n",
              "\n",
              "    .colab-df-convert {\n",
              "      background-color: #E8F0FE;\n",
              "      border: none;\n",
              "      border-radius: 50%;\n",
              "      cursor: pointer;\n",
              "      display: none;\n",
              "      fill: #1967D2;\n",
              "      height: 32px;\n",
              "      padding: 0 0 0 0;\n",
              "      width: 32px;\n",
              "    }\n",
              "\n",
              "    .colab-df-convert:hover {\n",
              "      background-color: #E2EBFA;\n",
              "      box-shadow: 0px 1px 2px rgba(60, 64, 67, 0.3), 0px 1px 3px 1px rgba(60, 64, 67, 0.15);\n",
              "      fill: #174EA6;\n",
              "    }\n",
              "\n",
              "    [theme=dark] .colab-df-convert {\n",
              "      background-color: #3B4455;\n",
              "      fill: #D2E3FC;\n",
              "    }\n",
              "\n",
              "    [theme=dark] .colab-df-convert:hover {\n",
              "      background-color: #434B5C;\n",
              "      box-shadow: 0px 1px 3px 1px rgba(0, 0, 0, 0.15);\n",
              "      filter: drop-shadow(0px 1px 2px rgba(0, 0, 0, 0.3));\n",
              "      fill: #FFFFFF;\n",
              "    }\n",
              "  </style>\n",
              "\n",
              "      <script>\n",
              "        const buttonEl =\n",
              "          document.querySelector('#df-4b97d1a0-a792-4a59-8c8a-0319c4dd1eeb button.colab-df-convert');\n",
              "        buttonEl.style.display =\n",
              "          google.colab.kernel.accessAllowed ? 'block' : 'none';\n",
              "\n",
              "        async function convertToInteractive(key) {\n",
              "          const element = document.querySelector('#df-4b97d1a0-a792-4a59-8c8a-0319c4dd1eeb');\n",
              "          const dataTable =\n",
              "            await google.colab.kernel.invokeFunction('convertToInteractive',\n",
              "                                                     [key], {});\n",
              "          if (!dataTable) return;\n",
              "\n",
              "          const docLinkHtml = 'Like what you see? Visit the ' +\n",
              "            '<a target=\"_blank\" href=https://colab.research.google.com/notebooks/data_table.ipynb>data table notebook</a>'\n",
              "            + ' to learn more about interactive tables.';\n",
              "          element.innerHTML = '';\n",
              "          dataTable['output_type'] = 'display_data';\n",
              "          await google.colab.output.renderOutput(dataTable, element);\n",
              "          const docLink = document.createElement('div');\n",
              "          docLink.innerHTML = docLinkHtml;\n",
              "          element.appendChild(docLink);\n",
              "        }\n",
              "      </script>\n",
              "    </div>\n",
              "  </div>\n",
              "  "
            ]
          },
          "metadata": {},
          "execution_count": 16
        }
      ]
    },
    {
      "cell_type": "code",
      "source": [
        "x = data_products['costs'].values.reshape(-1,1)\n",
        "y = data_products['product_retail_price'].values.reshape(-1,1)"
      ],
      "metadata": {
        "id": "fBuTTsOqtdjc"
      },
      "execution_count": null,
      "outputs": []
    },
    {
      "cell_type": "markdown",
      "source": [
        "membuat variabel x dan y, variabel independen = costs, variabel dependen = product_retail_price"
      ],
      "metadata": {
        "id": "vpGt4ZLG7b5O"
      }
    },
    {
      "cell_type": "code",
      "source": [
        "x_train, x_test, y_train, y_test = train_test_split(x, y, test_size=0.2)"
      ],
      "metadata": {
        "id": "bPJ8TuSutnTM"
      },
      "execution_count": null,
      "outputs": []
    },
    {
      "cell_type": "markdown",
      "source": [
        "setelah itu, split data kita menjadi training and testing dengan porsi 80:20."
      ],
      "metadata": {
        "id": "IIr66H7E7fBu"
      }
    },
    {
      "cell_type": "code",
      "source": [
        "lin_reg = LinearRegression()"
      ],
      "metadata": {
        "id": "90LdJ1NUt4im"
      },
      "execution_count": null,
      "outputs": []
    },
    {
      "cell_type": "markdown",
      "source": [
        "bikin object linear regresi."
      ],
      "metadata": {
        "id": "Dm7yzHgW7jzC"
      }
    },
    {
      "cell_type": "code",
      "source": [
        "lin_reg.fit(x_train, y_train)"
      ],
      "metadata": {
        "colab": {
          "base_uri": "https://localhost:8080/"
        },
        "id": "xdhZqeLqs36I",
        "outputId": "9c71df65-503a-4e39-f744-aeb1180c4535"
      },
      "execution_count": null,
      "outputs": [
        {
          "output_type": "execute_result",
          "data": {
            "text/plain": [
              "LinearRegression()"
            ]
          },
          "metadata": {},
          "execution_count": 7
        }
      ]
    },
    {
      "cell_type": "markdown",
      "source": [
        "selanjutnya, training the model menggunakan training data yang sudah displit sebelumnya."
      ],
      "metadata": {
        "id": "QExyZYQG7nqI"
      }
    },
    {
      "cell_type": "code",
      "source": [
        "print(lin_reg.coef_)\n",
        "print(lin_reg.intercept_)"
      ],
      "metadata": {
        "colab": {
          "base_uri": "https://localhost:8080/"
        },
        "id": "Jl1qguPBt-Ew",
        "outputId": "8e291de1-bb0e-4686-ad37-d7acb87c2dc5"
      },
      "execution_count": null,
      "outputs": [
        {
          "output_type": "stream",
          "name": "stdout",
          "text": [
            "[[2.11343838]]\n",
            "[-0.97953082]\n"
          ]
        }
      ]
    },
    {
      "cell_type": "markdown",
      "source": [
        "cari tau nilai slope/koefisien (m) dan intercept (b). diketahui nilai \n",
        "m = 2.11274166, dan nilai b = -0.96364073"
      ],
      "metadata": {
        "id": "OJ8AcWJl729l"
      }
    },
    {
      "cell_type": "code",
      "source": [
        "# y=m*x+b\n",
        "2.11334115*14+-0.97953082"
      ],
      "metadata": {
        "colab": {
          "base_uri": "https://localhost:8080/"
        },
        "id": "H60VZy5E1q44",
        "outputId": "202fd5ea-e831-438d-a516-d61289ced898"
      },
      "execution_count": null,
      "outputs": [
        {
          "output_type": "execute_result",
          "data": {
            "text/plain": [
              "28.60724528"
            ]
          },
          "metadata": {},
          "execution_count": 19
        }
      ]
    },
    {
      "cell_type": "markdown",
      "source": [
        "mencoba hasil prediksi menggunakan rumus y=m*x+b dengan nilai costs = 14$"
      ],
      "metadata": {
        "id": "aZtwJ9Wa6i5Y"
      }
    },
    {
      "cell_type": "code",
      "source": [
        "lin_reg.score(x_test, y_test)"
      ],
      "metadata": {
        "colab": {
          "base_uri": "https://localhost:8080/"
        },
        "id": "koII3miOuF9c",
        "outputId": "3aa81841-6e06-4110-deae-708c0bd389bd"
      },
      "execution_count": null,
      "outputs": [
        {
          "output_type": "execute_result",
          "data": {
            "text/plain": [
              "0.9645685630434514"
            ]
          },
          "metadata": {},
          "execution_count": 10
        }
      ]
    },
    {
      "cell_type": "markdown",
      "source": [
        "model kita mendapatkan accuracy score 96%"
      ],
      "metadata": {
        "id": "p9lCnWV96bve"
      }
    },
    {
      "cell_type": "code",
      "source": [
        "plt.figure(figsize=(10,10))\n",
        "y_prediksi = lin_reg.predict(x_test)\n",
        "plt.scatter(x_test, y_test)\n",
        "plt.plot(x_test, y_prediksi, c='r')\n",
        "plt.xlabel('costs')\n",
        "plt.ylabel('product_retail_price')\n",
        "plt.title('Plot costs vs retail_price')"
      ],
      "metadata": {
        "colab": {
          "base_uri": "https://localhost:8080/",
          "height": 638
        },
        "id": "Y-6ty10I3YKh",
        "outputId": "9a44208c-8c2b-4257-906c-bbb1fdeca1ea"
      },
      "execution_count": null,
      "outputs": [
        {
          "output_type": "execute_result",
          "data": {
            "text/plain": [
              "Text(0.5, 1.0, 'Plot costs vs retail_price')"
            ]
          },
          "metadata": {},
          "execution_count": 11
        },
        {
          "output_type": "display_data",
          "data": {
            "text/plain": [
              "<Figure size 720x720 with 1 Axes>"
            ],
            "image/png": "[encoded data removed]"
          },
          "metadata": {
            "needs_background": "light"
          }
        }
      ]
    },
    {
      "cell_type": "code",
      "source": [
        "lin_reg.predict([[14]])"
      ],
      "metadata": {
        "colab": {
          "base_uri": "https://localhost:8080/"
        },
        "id": "VvJI-Av161CR",
        "outputId": "481f062e-c0c3-4ccd-8ea4-ae8f1222eca0"
      },
      "execution_count": null,
      "outputs": [
        {
          "output_type": "execute_result",
          "data": {
            "text/plain": [
              "array([[28.6086065]])"
            ]
          },
          "metadata": {},
          "execution_count": 12
        }
      ]
    },
    {
      "cell_type": "code",
      "source": [
        "lin_reg.predict([[400]])"
      ],
      "metadata": {
        "colab": {
          "base_uri": "https://localhost:8080/"
        },
        "id": "ga0tCIMmsiku",
        "outputId": "9075b315-d22f-4605-caa7-78f11e47822a"
      },
      "execution_count": null,
      "outputs": [
        {
          "output_type": "execute_result",
          "data": {
            "text/plain": [
              "array([[844.39582119]])"
            ]
          },
          "metadata": {},
          "execution_count": 14
        }
      ]
    },
    {
      "cell_type": "code",
      "source": [
        "# Importing metrics for the evaluation of the model\n",
        "from sklearn.metrics import r2_score,mean_squared_error"
      ],
      "metadata": {
        "id": "oa2ofqoJvQ1j"
      },
      "execution_count": null,
      "outputs": []
    },
    {
      "cell_type": "code",
      "source": [
        "# calculate Mean square error\n",
        "mse = mean_squared_error(y_test,y_prediksi)"
      ],
      "metadata": {
        "id": "wlMRqEd6vgUh"
      },
      "execution_count": null,
      "outputs": []
    },
    {
      "cell_type": "code",
      "source": [
        "# Calculate R square vale\n",
        "rsq = r2_score(y_test,y_prediksi)"
      ],
      "metadata": {
        "id": "LGDxeKbuv31E"
      },
      "execution_count": null,
      "outputs": []
    },
    {
      "cell_type": "code",
      "source": [
        "print('r square :',rsq)"
      ],
      "metadata": {
        "colab": {
          "base_uri": "https://localhost:8080/"
        },
        "id": "VnTUq0wLx1bq",
        "outputId": "8f42fafc-b1b5-4c9f-af34-0093f2820c8e"
      },
      "execution_count": null,
      "outputs": [
        {
          "output_type": "stream",
          "name": "stdout",
          "text": [
            "r square : 0.9645685630434514\n"
          ]
        }
      ]
    },
    {
      "cell_type": "markdown",
      "source": [
        "nilai dari r kuadrat mendekati 1"
      ],
      "metadata": {
        "id": "c7GXFpT9AaB4"
      }
    }
  ]
}